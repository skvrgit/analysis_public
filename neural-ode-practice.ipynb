{
 "cells": [
  {
   "cell_type": "markdown",
   "metadata": {},
   "source": [
    "## Neural ODEの練習問題\n",
    "\n",
    "「Neural ODE の練習のためにイチローのレーザービームをTensorFlowで計算する」をTensorflow 2.0で書き直す。<br>\n",
    "https://qiita.com/yymgt/items/7acf934bb7d6846441fa\n"
   ]
  },
  {
   "cell_type": "markdown",
   "metadata": {},
   "source": [
    "## 問題設計\n",
    "\n",
    "$z_3$:T秒後のx軸位置、$z_4$:T秒後のy軸位置、x軸方向の抵抗はなし、y軸方向は重力のみとし、<br>\n",
    "$z(t) = (z_1(t),z_2(t),z_3(t),z_4(t))^T$とする。<br>\n",
    "$z$の時間発展は以下で得られる。<br>\n",
    "\n",
    "\n",
    "$$\\frac{dz}{dt} = f(z) = \\left[\\begin{array}{c}\n",
    "            z_3 \\\\\n",
    "            z_4 \\\\\n",
    "            0 \\\\\n",
    "            -g\n",
    "        \\end{array}\\right]$$\n",
    "\n",
    "$c=(c_1,c_2)^T=(v_0, \\phi)$は初期パラメタを表し、<br>\n",
    "$z(0) = (0,0,v_0 cos\\phi, v_1 sin\\phi)^T = (0,0,c_1 cosc_2, c_1 sinc_2)$を初期条件とする。\n",
    "\n",
    "ここで損失関数$L$は<br>\n",
    "$$L = (z_1(T)-x^*)^2 + (z_2(T)-y^*)^2$$\n",
    "\n",
    "従って$L$を最小化する$c$を最急降下法によって探索する。<br>\n",
    "$$c:=c-\\epsilon \\frac{\\partial L}{\\partial c}$$\n"
   ]
  },
  {
   "cell_type": "markdown",
   "metadata": {},
   "source": [
    "## 指針\n",
    "\n",
    "順方向(forward)の計算は以下の通りでODEソルバーを利用して解く事ができる。\n",
    "\n",
    "$$z(T) = z(0) + \\int_{t_0}^T f(\\tau, z(\\tau))d\\tau$$\n",
    "\n",
    "ただし損失関数$L$から$\\partial L/\\partial z(T)$、$z(0)$から$\\partial z(0)/\\partial c$は計算できるが、逆方向(backward)の計算ができない。<br>（NNの離散的な場面では微分のチェインルールで計算できた）\n",
    "$$\\frac{\\partial L}{\\partial z(0)} \\leftarrow \\frac{\\partial L}{\\partial z(T)}$$\n",
    "\n",
    "ここで$a(t)$を以下のように定義、$a(t)$の時間発展を導入し、逆向きのODEを解く。<br>\n",
    "\n",
    "$$ a(t) = \\frac{\\partial L}{\\partial z(t)} $$\n",
    "$$a(0) = a(T) + \\int_{T}^{t_0} f'(\\tau, a(\\tau))d\\tau$$\n",
    "\n",
    "$a(t)$の時間発展は以下で与えられる。\n",
    "\n",
    "$$\\frac{da(t)}{dt} = -a(t)\\frac{\\partial f(z(t),t)}{\\partial z}$$\n"
   ]
  },
  {
   "cell_type": "code",
   "execution_count": 9,
   "metadata": {},
   "outputs": [],
   "source": [
    "import numpy as np\n",
    "import matplotlib.pyplot as plt\n",
    "import tensorflow as tf\n",
    "\n",
    "from scipy.integrate import solve_ivp\n",
    "from scipy import cos, sin"
   ]
  },
  {
   "cell_type": "code",
   "execution_count": 2,
   "metadata": {},
   "outputs": [],
   "source": [
    "def f(t,z):\n",
    "    g = 9.8\n",
    "    return (tf.concat( [z[2:4],[0,-g]],axis=0))\n",
    "\n",
    "def jacobian(t, f, x):\n",
    "    with tf.GradientTape() as g:\n",
    "      g.watch(x)\n",
    "      y = f(0,x)\n",
    "    return g.jacobian(y, x)\n",
    "\n",
    "def Df(t, f, x):\n",
    "    return jacobian(t,f,x)\n",
    "    \n",
    "# test code\n",
    "#Df(None, f, tf.constant([1.0,1.0,1.0,1.0])).numpy()"
   ]
  },
  {
   "cell_type": "code",
   "execution_count": 3,
   "metadata": {},
   "outputs": [],
   "source": [
    "def L(x):\n",
    "    return tf.reduce_sum(tf.square(x[0:2]-xy_target))\n",
    "\n",
    "def dLdz_T(z_T):\n",
    "    with tf.GradientTape() as g:\n",
    "      g.watch(z_T)\n",
    "      y = L(z_T)\n",
    "    return g.gradient(y, z_T)\n",
    "\n",
    "\n",
    "# test code\n",
    "# xy_target = (100.0,0.0)\n",
    "# print(dLdz_T(tf.constant([2.0,3.0])))"
   ]
  },
  {
   "cell_type": "code",
   "execution_count": 4,
   "metadata": {
    "scrolled": true
   },
   "outputs": [],
   "source": [
    "def f_np(t, z):\n",
    "    return f(0, z)\n",
    "\n",
    "def forward(z_0,ts=None):\n",
    "    sol = solve_ivp(fun=f_np ,t_span=[0, t_end], y0=z_0, t_eval=ts)\n",
    "    zt_val = sol['y']\n",
    "    z_T_val = sol['y'][:,-1]  # ODEを解いた最後の値 z(T)を取り出す．\n",
    "    L_val = L(z_T_val)\n",
    "    return L_val, z_T_val, zt_val\n",
    "\n",
    "\n",
    "# #forward calculation\n",
    "# L_val, z_T_val, zt_val = forward(z_0, ts=ts)\n",
    "\n",
    "# # z_0 and c value\n",
    "# z0_val = z_0\n",
    "# c_val = c\n",
    "\n",
    "# # change to degree\n",
    "# print('(v_0, phi(deg)) = ({:.4}, {:.4}'.format(c_val[0], 360*c_val[1]/(2*np.pi)))\n",
    "# np.set_printoptions(3)\n",
    "# print('z(0)={}'.format(z0_val))\n",
    "\n",
    "# # z(T)\n",
    "# print('z(T)={}'.format(z_T_val))\n",
    "# print('L= {}'.format(L_val))\n",
    "\n",
    "# plt.plot(zt_val[0,:],zt_val[1,:])\n",
    "# plt.xlabel('x')\n",
    "# plt.ylabel('y')"
   ]
  },
  {
   "cell_type": "code",
   "execution_count": 5,
   "metadata": {},
   "outputs": [],
   "source": [
    "def f_with_adj(t, za):\n",
    "    \n",
    "    fzv = f(0, za[0:dim])\n",
    "    dav = -tf.linalg.matvec(Df(0,f,tf.Variable(za[0:dim])), tf.Variable(za[dim:2*dim]), transpose_a=True)\n",
    "\n",
    "    return np.concatenate([fzv, dav])\n",
    "\n",
    "def backward(z_T_val):\n",
    "    dLdz_T_val = dLdz_T(z_T_val)\n",
    "    za_val[0:dim] = z_T_val[0:dim]\n",
    "    za_val[dim:2*dim] = dLdz_T_val[:]\n",
    "\n",
    "    # backward integration\n",
    "    sol_back = solve_ivp(fun=f_with_adj,t_span=[t_end, 0], y0= za_val, t_eval=ts[::-1])\n",
    "    za_0_val = sol_back['y'][:,-1]\n",
    "    dLdz_0_val = za_0_val[dim:2*dim]\n",
    "    \n",
    "    Ldummy0 = lambda : tf.reduce_sum(\n",
    "        dLdz_0_val * tf.concat([tf.Variable([0,0,],dtype=tf.float64), [c[0]*tf.cos(c[1])], [c[0]*tf.sin(c[1])]], axis=0))\n",
    "    \n",
    "    opt = tf.keras.optimizers.SGD(learning_rate=0.00001)\n",
    "    opt.minimize(Ldummy0, var_list=[c])\n",
    "    \n",
    "    c_val = c\n",
    "    return c_val, dLdz_T_val, dLdz_0_val, za_0_val\n",
    "\n",
    "# c = tf.keras.backend.variable([35,np.pi/4], dtype=tf.float64) # set initial speed and angle here \n",
    "# z_0 = tf.concat([tf.Variable([0,0,],dtype=tf.float64), [c[0]*tf.cos(c[1])], [c[0]*tf.sin(c[1])]], axis=0)\n",
    "# c_val, dLdz_T_val, dLdz_0_val, za_0_val = backward(tf.constant(z_T_val))\n",
    "# print('dL/dz(T) = {}'.format(dLdz_T_val))\n",
    "# print('dL/dz(0) = {}'.format(dLdz_0_val))\n",
    "# print('(v_0, phi(deg)) = ({:.3}, {:.3})'.format(c_val[0], 360*c_val[1]/(2*np.pi)))"
   ]
  },
  {
   "cell_type": "code",
   "execution_count": 6,
   "metadata": {},
   "outputs": [],
   "source": [
    "xy_target = (100,0) # target\n",
    "t_end = 3 # duration of integration\n",
    "ts=np.arange(0,t_end+0.1,0.1) # time step for displaying orbit\n",
    "dim=4 # dimension of ode\n",
    "\n",
    "c = tf.keras.backend.variable([35,np.pi/4], dtype=tf.float64, name='c') # set initial speed and angle here \n",
    "z_0 = tf.concat([tf.Variable([0,0,],dtype=tf.float64), [c[0]*tf.cos(c[1])], [c[0]*tf.sin(c[1])]], axis=0)\n",
    "z_val = np.zeros(shape=[dim], dtype=np.float64)\n",
    "za_val = np.zeros(shape=[dim*2],dtype=np.float64)"
   ]
  },
  {
   "cell_type": "code",
   "execution_count": 7,
   "metadata": {},
   "outputs": [
    {
     "name": "stdout",
     "output_type": "stream",
     "text": [
      "c=<tf.Variable 'c:0' shape=(2,) dtype=float64, numpy=array([35.        ,  0.78539816])>\n",
      "[74.24621202 30.14621202 24.74873734 -4.65126266]\n",
      "iteration:0\n",
      "(v_0[m/s], phi[deg]) = (34.99981365, 40.24403416)\n",
      "L= 957.5\n",
      "z(T)=[80.14604621 23.73431192 26.71534874 -6.78856269]\n",
      "c=<tf.Variable 'c:0' shape=(2,) dtype=float64, numpy=array([34.99981365,  0.7023909 ])>\n",
      "[80.14604621 23.73431192 26.71534874 -6.78856269]\n",
      "iteration:1\n",
      "(v_0[m/s], phi[deg]) = (34.99980291, 36.52096533)\n",
      "L= 582.0\n",
      "z(T)=[84.38163588 18.38692152 28.12721196 -8.57102616]\n",
      "c=<tf.Variable 'c:0' shape=(2,) dtype=float64, numpy=array([34.99980291,  0.63741109])>\n",
      "[84.38163588 18.38692152 28.12721196 -8.57102616]\n",
      "iteration:2\n",
      "(v_0[m/s], phi[deg]) = (34.99989946, 33.62470728)\n",
      "L= 355.2\n",
      "z(T)=[ 87.43141427  14.04365364  29.14380476 -10.01878212]\n",
      "c=<tf.Variable 'c:0' shape=(2,) dtype=float64, numpy=array([34.99989946,  0.58686185])>\n",
      "[ 87.43141427  14.04365364  29.14380476 -10.01878212]\n",
      "iteration:3\n",
      "(v_0[m/s], phi[deg]) = (35.0000608, 31.38027123)\n",
      "L= 219.1\n",
      "z(T)=[ 89.64182114  10.57524307  29.88060705 -11.17491898]\n",
      "c=<tf.Variable 'c:0' shape=(2,) dtype=float64, numpy=array([35.0000608 ,  0.54768905])>\n",
      "[ 89.64182114  10.57524307  29.88060705 -11.17491898]\n",
      "iteration:4\n",
      "(v_0[m/s], phi[deg]) = (35.00026098, 29.64498839)\n",
      "L= 137.8\n",
      "z(T)=[ 91.25689663   7.83595323  30.41896554 -12.08801559]\n",
      "c=<tf.Variable 'c:0' shape=(2,) dtype=float64, numpy=array([35.00026098,  0.51740265])>\n",
      "[ 91.25689663   7.83595323  30.41896554 -12.08801559]\n",
      "iteration:5\n",
      "(v_0[m/s], phi[deg]) = (35.00048435, 28.30522267)\n",
      "L= 89.41\n",
      "z(T)=[ 92.44686354   5.68837782  30.81562118 -12.80387406]\n",
      "c=<tf.Variable 'c:0' shape=(2,) dtype=float64, numpy=array([35.00048435,  0.49401933])>\n",
      "[ 92.44686354   5.68837782  30.81562118 -12.80387406]\n",
      "iteration:6\n",
      "(v_0[m/s], phi[deg]) = (35.00072152, 27.27168578)\n",
      "L= 60.59\n",
      "z(T)=[ 93.33052063   4.01308014  31.11017354 -13.36230662]\n",
      "c=<tf.Variable 'c:0' shape=(2,) dtype=float64, numpy=array([35.00072152,  0.47598071])>\n",
      "[ 93.33052063   4.01308014  31.11017354 -13.36230662]\n",
      "iteration:7\n",
      "(v_0[m/s], phi[deg]) = (35.00096688, 26.47477937)\n",
      "L= 43.45\n",
      "z(T)=[ 93.99131822   2.71069579  31.33043941 -13.79643474]\n",
      "c=<tf.Variable 'c:0' shape=(2,) dtype=float64, numpy=array([35.00096688,  0.46207207])>\n",
      "[ 93.99131822   2.71069579  31.33043941 -13.79643474]\n",
      "iteration:8\n",
      "(v_0[m/s], phi[deg]) = (35.00121708, 25.86050853)\n",
      "L= 33.27\n",
      "z(T)=[ 94.48844213   1.7006668   31.49614738 -14.13311107]\n",
      "c=<tf.Variable 'c:0' shape=(2,) dtype=float64, numpy=array([35.00121708,  0.45135102])>\n",
      "[ 94.48844213   1.7006668   31.49614738 -14.13311107]\n",
      "iteration:9\n",
      "(v_0[m/s], phi[deg]) = (35.00147015, 25.38710058)\n",
      "L= 27.22\n",
      "z(T)=[ 94.86432767   0.91872445  31.62144256 -14.39375852]\n",
      "c=<tf.Variable 'c:0' shape=(2,) dtype=float64, numpy=array([35.00147015,  0.44308849])>\n",
      "[ 94.86432767   0.91872445  31.62144256 -14.39375852]\n",
      "iteration:10\n",
      "(v_0[m/s], phi[deg]) = (35.0017249, 25.02229195)\n",
      "L= 23.62\n",
      "z(T)=[ 95.14973461   0.31412749  31.7165782  -14.59529084]\n"
     ]
    }
   ],
   "source": [
    "orbits = []\n",
    "n_itr = []\n",
    "\n",
    "\n",
    "\n",
    "for i in range(11):\n",
    "    \n",
    "    print(\"c=\"+str(c))\n",
    "    L_val,z_T_val, zt_val = forward(z_0)\n",
    "    c_val, *other = backward(tf.Variable(z_T_val))\n",
    "\n",
    "    print(z_T_val)\n",
    "    \n",
    "    z_0 = tf.concat([tf.Variable([0,0],dtype=tf.float64), [c_val.numpy()[0]*tf.cos(c_val.numpy()[1])], [c_val.numpy()[0]*tf.sin(c_val.numpy()[1])]], axis=0)\n",
    "\n",
    "    L_val,z_T_val, zt_val = forward(z_0, ts=ts)\n",
    "    print('iteration:{}'.format(i))\n",
    "    print('(v_0[m/s], phi[deg]) = ({:.10}, {:.10})'.format(c_val[0], 360*c_val[1]/(2*np.pi)))\n",
    "    print('L= {:.4}'.format(L_val))\n",
    "    print('z(T)={}'.format(z_T_val))\n",
    "        \n",
    "    orbits.append(zt_val)\n",
    "    n_itr.append(i)"
   ]
  },
  {
   "cell_type": "code",
   "execution_count": 8,
   "metadata": {},
   "outputs": [
    {
     "data": {
      "text/plain": [
       "Text(0, 0.5, 'y')"
      ]
     },
     "execution_count": 8,
     "metadata": {},
     "output_type": "execute_result"
    },
    {
     "data": {
      "image/png": "[encoded data removed]",
      "text/plain": [
       "<Figure size 432x288 with 1 Axes>"
      ]
     },
     "metadata": {
      "needs_background": "light"
     },
     "output_type": "display_data"
    }
   ],
   "source": [
    "orbits[0].shape\n",
    "fig=plt.figure()\n",
    "ax=fig.add_subplot(1,1,1)\n",
    "for ( i,orb) in zip(n_itr,orbits):\n",
    "    ax.plot(orb[0],orb[1], label=i)\n",
    "ax.legend(loc = 'upper left')\n",
    "ax.set_xlabel('x')\n",
    "ax.set_ylabel('y')"
   ]
  },
  {
   "cell_type": "code",
   "execution_count": null,
   "metadata": {},
   "outputs": [],
   "source": []
  },
  {
   "cell_type": "code",
   "execution_count": null,
   "metadata": {},
   "outputs": [],
   "source": []
  }
 ],
 "metadata": {
  "kernelspec": {
   "display_name": "Python 3",
   "language": "python",
   "name": "python3"
  },
  "language_info": {
   "codemirror_mode": {
    "name": "ipython",
    "version": 3
   },
   "file_extension": ".py",
   "mimetype": "text/x-python",
   "name": "python",
   "nbconvert_exporter": "python",
   "pygments_lexer": "ipython3",
   "version": "3.7.4"
  },
  "toc": {
   "base_numbering": 1,
   "nav_menu": {},
   "number_sections": true,
   "sideBar": true,
   "skip_h1_title": false,
   "title_cell": "Table of Contents",
   "title_sidebar": "Contents",
   "toc_cell": false,
   "toc_position": {},
   "toc_section_display": true,
   "toc_window_display": false
  }
 },
 "nbformat": 4,
 "nbformat_minor": 2
}
