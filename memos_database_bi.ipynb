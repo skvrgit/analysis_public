{
 "cells": [
  {
   "cell_type": "markdown",
   "metadata": {},
   "source": [
    "## Power BI"
   ]
  },
  {
   "cell_type": "markdown",
   "metadata": {},
   "source": []
  },
  {
   "cell_type": "markdown",
   "metadata": {},
   "source": [
    "## ElasticSearch\n",
    "\n",
    "+ APIまとめ1:https://medium.com/hello-elasticsearch/elasticsearch-api-83760ce1424b\n",
    "+ APIまとめ2:https://blog.mosuke.tech/entry/2018/01/14/elasticsearch-api/\n"
   ]
  },
  {
   "cell_type": "markdown",
   "metadata": {},
   "source": [
    "### API\n",
    "\n",
    "curl -H \"Content-Type: application/json\" -XPUT localhost:9200/electric_power --data-binary @mapping.json\n",
    "<br>\n",
    "\n",
    "curl -XPOST http://localhost:9200/_bulk -H \"Content-type: application/json\"   --data-binary @dataset_1.json\n",
    "<br>\n",
    "\n",
    "curl -XDELETE \"localhost:9200/*\"\n"
   ]
  },
  {
   "cell_type": "code",
   "execution_count": null,
   "metadata": {},
   "outputs": [],
   "source": []
  },
  {
   "cell_type": "code",
   "execution_count": null,
   "metadata": {},
   "outputs": [],
   "source": []
  },
  {
   "cell_type": "markdown",
   "metadata": {},
   "source": [
    "## Kibana\n",
    "\n",
    "+ 日本語化：https://qiita.com/kouji-kojima/items/7413d5e6ec4b7e82373b\n"
   ]
  },
  {
   "cell_type": "code",
   "execution_count": null,
   "metadata": {},
   "outputs": [],
   "source": []
  },
  {
   "cell_type": "markdown",
   "metadata": {},
   "source": [
    "## MongoDB"
   ]
  },
  {
   "cell_type": "markdown",
   "metadata": {},
   "source": [
    "### MongoDBとは\n",
    "+ humongous（とてつもなく大きい）が由来\n",
    "+ javascriptで作成されている\n",
    "+ ドキュメント指向データベース（スキーマレス）\n",
    "+ テーブル結合はできる\n",
    "+ 水平スケールアウトが容易（シャーディング）\n",
    "+ トランザクションがない（v4.0から一応ある様子）\n",
    "+ wiredTigerストレージエンジンを採用（ロック：ドキュメント単位(書込みが早い)、キャッシュサイズ：指定可能、データ圧縮：可能）\n",
    "\n",
    "### 設計指針\n",
    "\n",
    "以下のアンチパターンは避ける\n",
    "+ 同じフィールド名でデータ型が異なる\n",
    "+ 1つのコレクションに2つの役割を持つ\n",
    "+ 深いネストがある\n",
    "+ 多対多の設計\n",
    "\n",
    "デザインパターン\n",
    "+ シャーディング前提で設計する。（どれをシャードキーにするかを念頭に入れる）\n",
    "+ シャードキーのアンチパターン\n",
    "    + 検索に使用しないフィールド\n",
    "    + 単調増加、単調減少するフィールド（例：日付をキーにすると、常に書込みが特定のサーバに集中する。）\n",
    "    + カーディナリティが低すぎるフィールド（例：性別等を指定してしまうとチャンクサイズが大きくなり分割できなくなる。）\n",
    "+ シャードキーのデザインパターン\n",
    "    + 複合キーを指定する、一つのキーを指定するといずれはチャンクが最大に達する。\n",
    "    + 例：投稿ID,ユーザID,投稿日時,投稿内容,等の場合にはユーザIDを指定する。投稿ID、投稿日時は単調増加する\n",
    "    + キーの指定順番は注意が必要。例：ユーザID,投稿年月をシャードキーする場合に（投稿年月、ユーザID）とする"
   ]
  },
  {
   "cell_type": "markdown",
   "metadata": {},
   "source": [
    "### 設定"
   ]
  },
  {
   "cell_type": "markdown",
   "metadata": {},
   "source": [
    "+ コンフィグ, もしくは引数でデータ、ログの保存先を指定可能"
   ]
  },
  {
   "cell_type": "code",
   "execution_count": null,
   "metadata": {},
   "outputs": [],
   "source": [
    "mongod --dbpath c:\\mongodb\\data --logpath c:\\mongodb\\logs\\mongodb.log"
   ]
  },
  {
   "cell_type": "markdown",
   "metadata": {},
   "source": [
    "### コマンド\n",
    "\n",
    "+ use test: testデータベース作成、スイッチ\n",
    "+ show dbs: \n",
    "+ show collections:\n",
    "+ db.createCollection(\"employee\"):コレクション作成\n",
    "+ db.employee.insertOne({name:\"Alice\",age:30}):ドキュメント作成、ここで型指定も可能、NULL可、Validation機能あり\n",
    "+ db.employee.insertMany({name:\"Alice\",age:30},{name:\"Bob\",age:20}):ドキュメント作成\n",
    "+ db.employee.find():検索\n",
    "+ db.employee.find({}, {_id:0}):全件検索、_id列を非表示\n",
    "+ db.employee.find({name:\"Alice\"},{_id:0, name:1} \n",
    "+ db.stats():統計情報の表示\n",
    "+ db.dropDatabase():DB削除"
   ]
  },
  {
   "cell_type": "markdown",
   "metadata": {},
   "source": [
    "### インデックス\n",
    "+ B-Treeアルゴリズム\n",
    "+ 結合キー、シャードキーにはインデックスを付与する\n",
    "+ 無駄なインデックスは登録・更新・削除を遅くする。プロファイラを設定して監視。"
   ]
  },
  {
   "cell_type": "code",
   "execution_count": null,
   "metadata": {},
   "outputs": [],
   "source": [
    "# クエリパフォーマンスの監視\n",
    "use test\n",
    "db.setPrifilingLevel(1,1) #スロークエリのみ出力, 敷値は1msec"
   ]
  },
  {
   "cell_type": "markdown",
   "metadata": {},
   "source": [
    "### その他設定\n",
    "+ configファイルに記載。\n",
    "+ destination:\n",
    "+ path:\n",
    "+ logAppend:\n",
    "+ logRotate:rename(default)\n",
    "+ dbPath:\n",
    "+ journal enabled:true(default) 50msec毎に書込発生。\n",
    "+ cacheSizeGB:memory-size*0.5-1(default)\n",
    "+ blockCompressor:none, snappy(default), zlib\n",
    "+ bindIp:MongoDBに接続可能なIP\n",
    "+ port:\n",
    "+ maxIncomingConnections:最大同時接続数 65536(default)"
   ]
  },
  {
   "cell_type": "markdown",
   "metadata": {},
   "source": [
    "### レプリカ\n",
    "+ 導入初期はレプリカセットのみの使用を検討してみる\n",
    "+ primary, secondary, arbiterの3台が最小構成。arbiterはprimaryの投票だけを行う。3台はpingで相互に死活監視を行う。\n",
    "+ データ追加時にwriteConcernオプションを付与する事で書込保障機能を利用可能\n",
    "+ 読取負荷分散はdb.collection.find().readPref({mode:\"primary\",\"secondary\",\"nearest\"})等として利用できる\n",
    "+ 同期の仕組み\n",
    "    1. primaryへの書き込み発生\n",
    "    1. primaryに書き込まれたデータや登録日時をoplogに書き込む\n",
    "    1. secondaryがprimaryのoplogを非同期に確認。差分をsecondaryのoplogに書き込む。\n",
    "    1. secondaryがoplogからデータを取得して同期する\n",
    "+ oplogのサイジング\n",
    "    + oplogは上限がデフォルトで指定されている。\n",
    "    + <span style=\"color: red; \">超過分は古いデータから消去される。(障害時の同期処理が正常に完了しない等の問題が発生する)</span>\n",
    "    + 1時間分の本番データを入れて、8時間分のoplogサイジングする事が推奨されている"
   ]
  },
  {
   "cell_type": "markdown",
   "metadata": {},
   "source": [
    "### シャーディング\n",
    "+ キーを指定してチャンクを作成する\n",
    "+ <span style=\"color: red; \">チャンクサイズは64MBが最大。超過分は同じチャンクに書き込まれ続ける。パフォーマンス悪化の原因。</span>\n",
    "+ オートバランシング中にデータ重複が発生し、クエリ結果に不整合が生じる。対応策は以下・・・？\n",
    "    + ゾーン指定：運用が大変\n",
    "    + オートバランシングの停止：sh.isBalancerRunning(), sh.stopBalancer(timeout, interval)"
   ]
  },
  {
   "cell_type": "markdown",
   "metadata": {},
   "source": [
    "### セキュリティ\n",
    "+ ユーザ作成する程度\n"
   ]
  },
  {
   "cell_type": "code",
   "execution_count": null,
   "metadata": {},
   "outputs": [],
   "source": [
    "mongo localhost:20000/admin -u \"user\" -p \"password\""
   ]
  },
  {
   "cell_type": "markdown",
   "metadata": {},
   "source": [
    "### バックアップ\n",
    "\n",
    "+ ファイルコピー。データが入ったファイルを丸ごとコピーする\n",
    "+ mongodumpを使用する。BSONに変換されてバックアップ、リストアに時間が掛かる。<span style=\"color: red; \">シャーディングを構築している時などに使用する。</span>"
   ]
  },
  {
   "cell_type": "code",
   "execution_count": null,
   "metadata": {},
   "outputs": [],
   "source": []
  }
 ],
 "metadata": {
  "kernelspec": {
   "display_name": "Python 3",
   "language": "python",
   "name": "python3"
  },
  "language_info": {
   "codemirror_mode": {
    "name": "ipython",
    "version": 3
   },
   "file_extension": ".py",
   "mimetype": "text/x-python",
   "name": "python",
   "nbconvert_exporter": "python",
   "pygments_lexer": "ipython3",
   "version": "3.7.4"
  },
  "toc": {
   "base_numbering": 1,
   "nav_menu": {},
   "number_sections": true,
   "sideBar": true,
   "skip_h1_title": false,
   "title_cell": "Table of Contents",
   "title_sidebar": "Contents",
   "toc_cell": false,
   "toc_position": {},
   "toc_section_display": true,
   "toc_window_display": false
  }
 },
 "nbformat": 4,
 "nbformat_minor": 2
}
